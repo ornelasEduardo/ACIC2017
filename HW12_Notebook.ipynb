{
 "cells": [
  {
   "cell_type": "markdown",
   "metadata": {},
   "source": [
    "# Intro\n",
    "\n",
    "The program begins by importing all the necessary files and functions. Jupyter Notebook is unable to run functions defined within its cells so we needed to resort to using an import solution on the code."
   ]
  },
  {
   "cell_type": "code",
   "execution_count": 9,
   "metadata": {},
   "outputs": [],
   "source": [
    "from hw12 import getTaxaIdsFor, getObservationCountFor, outputAsCsv\n",
    "from requests import Session\n",
    "import json\n",
    "import csv\n",
    "from calendar import monthrange"
   ]
  },
  {
   "cell_type": "markdown",
   "metadata": {},
   "source": [
    "# Code\n",
    "\n",
    "The code works as follows:\n",
    "    1.) Define a list of species you're interested in.\n",
    "    2.) After we have that list, we can begin to grab the taxa ids for those species from the iNaturalist API\n",
    "    3.) After we've created a dictionary of species,id we move on to grabbing the number of observations per month for \n",
    "        every month in the year 2016 for every species.\n",
    "    4.) Finally, we send that data off to be outputted in a nicely formatted CSV."
   ]
  },
  {
   "cell_type": "code",
   "execution_count": 12,
   "metadata": {
    "collapsed": true
   },
   "outputs": [],
   "source": [
    "def main(): \n",
    "    speciesToLookFor = ['Danaus plexippus', 'Hyles lineata', 'Zerene cesonia', 'Papilio multicaudata', 'Agraulis vanillae', 'Papilio cresphontes', 'Strymon melinus', 'Vanessa cardui', 'Hylephila phyleus', 'Danaus gilippus']\n",
    "    idsList = getTaxaIdsFor(speciesToLookFor)\n",
    "    speciesMonthlyObservations = getObservationCountFor(idsList, 1, 12, '2016')\n",
    "    outputAsCsv(speciesMonthlyObservations)\n",
    "\n",
    "if __name__ == '__main__':\n",
    "    main()"
   ]
  },
  {
   "cell_type": "markdown",
   "metadata": {},
   "source": [
    "# To Know\n",
    "\n",
    "Jupyter Notebook will place the CSV in the root directory where this is ran. It is recommended that you download the hw12.py file and run it on your machine. You will be able to see how the program works in detail by doing so."
   ]
  }
 ],
 "metadata": {
  "kernelspec": {
   "display_name": "Python 3",
   "language": "python",
   "name": "python3"
  },
  "language_info": {
   "codemirror_mode": {
    "name": "ipython",
    "version": 3
   },
   "file_extension": ".py",
   "mimetype": "text/x-python",
   "name": "python",
   "nbconvert_exporter": "python",
   "pygments_lexer": "ipython3",
   "version": "3.6.2"
  }
 },
 "nbformat": 4,
 "nbformat_minor": 2
}
